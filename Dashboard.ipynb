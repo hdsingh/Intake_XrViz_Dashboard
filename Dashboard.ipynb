{
 "cells": [
  {
   "cell_type": "markdown",
   "metadata": {},
   "source": [
    "## Intake and XrViz"
   ]
  },
  {
   "cell_type": "markdown",
   "metadata": {},
   "source": [
    "The aim of this notebook is to demonstrate the ease of data input with [Intake](https://intake.readthedocs.io/) and to visualise it interactively using [XrViz](https://github.com/intake/xrviz)."
   ]
  },
  {
   "cell_type": "code",
   "execution_count": null,
   "metadata": {
    "ExecuteTime": {
     "end_time": "2019-07-22T03:04:30.308537Z",
     "start_time": "2019-07-22T03:04:29.635904Z"
    }
   },
   "outputs": [],
   "source": [
    "import intake"
   ]
  },
  {
   "cell_type": "markdown",
   "metadata": {},
   "source": [
    "### Intake GUI"
   ]
  },
  {
   "cell_type": "code",
   "execution_count": null,
   "metadata": {
    "ExecuteTime": {
     "end_time": "2019-07-22T03:04:31.908056Z",
     "start_time": "2019-07-22T03:04:31.302597Z"
    }
   },
   "outputs": [],
   "source": [
    "gui = intake.gui\n",
    "gui.add('xarray_data.yml')\n",
    "gui"
   ]
  },
  {
   "cell_type": "code",
   "execution_count": null,
   "metadata": {
    "ExecuteTime": {
     "end_time": "2019-07-22T03:04:46.097274Z",
     "start_time": "2019-07-22T03:04:35.249748Z"
    }
   },
   "outputs": [],
   "source": [
    "data = gui.item.to_dask()"
   ]
  },
  {
   "cell_type": "markdown",
   "metadata": {},
   "source": [
    "### XrViz Dashboard"
   ]
  },
  {
   "cell_type": "code",
   "execution_count": null,
   "metadata": {
    "ExecuteTime": {
     "end_time": "2019-07-22T03:04:50.194874Z",
     "start_time": "2019-07-22T03:04:47.503073Z"
    }
   },
   "outputs": [],
   "source": [
    "from xrviz.dashboard import Dashboard"
   ]
  },
  {
   "cell_type": "code",
   "execution_count": null,
   "metadata": {
    "ExecuteTime": {
     "end_time": "2019-07-22T03:04:51.179544Z",
     "start_time": "2019-07-22T03:04:50.199822Z"
    }
   },
   "outputs": [],
   "source": [
    "dash = Dashboard(data)\n",
    "dash.panel"
   ]
  }
 ],
 "metadata": {
  "kernelspec": {
   "display_name": "Python 3",
   "language": "python",
   "name": "python3"
  },
  "language_info": {
   "codemirror_mode": {
    "name": "ipython",
    "version": 3
   },
   "file_extension": ".py",
   "mimetype": "text/x-python",
   "name": "python",
   "nbconvert_exporter": "python",
   "pygments_lexer": "ipython3",
   "version": "3.7.3"
  }
 },
 "nbformat": 4,
 "nbformat_minor": 2
}
